{
 "cells": [
  {
   "cell_type": "code",
   "execution_count": 3,
   "id": "c7c9b4c1",
   "metadata": {},
   "outputs": [],
   "source": [
    "import datetime\n",
    "import os\n",
    "import io\n",
    "import requests\n",
    "import numpy as np\n",
    "\n",
    "import pandas as pd\n",
    "from datetime import timedelta\n",
    "from datetime import datetime as dt\n",
    "import time\n",
    "from io import StringIO\n",
    "import requests\n",
    "from datetime import datetime as dt, timedelta\n",
    "import pandas as pd\n",
    "\n",
    "import requests\n",
    "import json\n",
    "from bs4 import BeautifulSoup"
   ]
  },
  {
   "cell_type": "code",
   "execution_count": 4,
   "id": "69584c5c",
   "metadata": {},
   "outputs": [],
   "source": [
    "def WSJ_data(access_token,symbol):\n",
    "    \n",
    "    today = dt.today()\n",
    "    current_weekday = today.weekday()\n",
    "    last_sunday = today\n",
    "    previous_sunday = last_sunday - timedelta(days=30)\n",
    "    \n",
    "    last_sunday_str = last_sunday.strftime(\"%m/%d/%Y\")\n",
    "\n",
    "    previous_sunday_str = previous_sunday.strftime(\"%m/%d/%Y\")\n",
    "\n",
    "    \n",
    "    custom_headers = {\n",
    "    \"User-Agent\": \"Mozilla/5.0 (Windows NT 10.0; Win64; x64) AppleWebKit/537.36 (KHTML, like Gecko) Chrome/58.0.3029.110 Safari/537.36\",\n",
    "    }\n",
    "    url = f\"https://www.wsj.com/market-data/quotes/index/{symbol}/historical-prices/download?MOD_VIEW=page&num_rows=30&range_days=30&startDate={previous_sunday_str}&endDate={last_sunday_str}\"\n",
    "\n",
    "    response = requests.get(url, headers=custom_headers)\n",
    "    df = pd.read_csv(io.StringIO(response.text))\n",
    "    df.rename(columns=lambda x: x.strip(), inplace=True)\n",
    "    print(df)\n",
    "    "
   ]
  },
  {
   "cell_type": "code",
   "execution_count": 5,
   "id": "216eb29f",
   "metadata": {},
   "outputs": [
    {
     "name": "stdout",
     "output_type": "stream",
     "text": [
      "        Date     Open     High      Low    Close\n",
      "0   11/27/23  4554.86  4560.52  4546.32  4550.43\n",
      "1   11/24/23  4555.84  4560.31  4552.80  4559.34\n",
      "2   11/22/23  4553.04  4568.43  4545.05  4556.62\n",
      "3   11/21/23  4538.77  4542.14  4525.51  4538.19\n",
      "4   11/20/23  4511.70  4557.11  4510.36  4547.38\n",
      "5   11/17/23  4509.55  4520.12  4499.66  4514.02\n",
      "6   11/16/23  4497.08  4511.99  4487.83  4508.24\n",
      "7   11/15/23  4505.30  4521.17  4495.31  4502.88\n",
      "8   11/14/23  4458.97  4508.67  4458.97  4495.70\n",
      "9   11/13/23  4406.66  4421.76  4393.82  4411.55\n",
      "10  11/10/23  4364.15  4418.03  4353.34  4415.24\n",
      "11  11/09/23  4391.41  4393.40  4343.94  4347.35\n",
      "12  11/08/23  4384.37  4391.20  4359.76  4382.78\n",
      "13  11/07/23  4366.21  4386.26  4355.41  4378.38\n",
      "14  11/06/23  4364.27  4372.21  4347.53  4365.98\n",
      "15  11/03/23  4334.23  4373.62  4334.23  4358.34\n",
      "16  11/02/23  4268.26  4319.72  4268.26  4317.78\n",
      "17  11/01/23  4201.27  4245.64  4197.74  4237.86\n",
      "18  10/31/23  4171.33  4195.55  4153.12  4193.80\n",
      "19  10/30/23  4139.39  4177.47  4132.94  4166.82\n"
     ]
    }
   ],
   "source": [
    "WSJ_data('access_token','SPX')"
   ]
  },
  {
   "cell_type": "code",
   "execution_count": null,
   "id": "83286fdc",
   "metadata": {},
   "outputs": [],
   "source": []
  }
 ],
 "metadata": {
  "kernelspec": {
   "display_name": "Python 3 (ipykernel)",
   "language": "python",
   "name": "python3"
  },
  "language_info": {
   "codemirror_mode": {
    "name": "ipython",
    "version": 3
   },
   "file_extension": ".py",
   "mimetype": "text/x-python",
   "name": "python",
   "nbconvert_exporter": "python",
   "pygments_lexer": "ipython3",
   "version": "3.11.5"
  }
 },
 "nbformat": 4,
 "nbformat_minor": 5
}
