{
 "cells": [
  {
   "cell_type": "code",
   "execution_count": 1,
   "id": "d3d04d74",
   "metadata": {},
   "outputs": [],
   "source": [
    "import requests"
   ]
  },
  {
   "cell_type": "code",
   "execution_count": null,
   "id": "546bf924",
   "metadata": {},
   "outputs": [],
   "source": [
    "def get_access_token(client_id, client_secret, tenant_id, resource='https://graph.microsoft.com'):\n",
    "    token_url = f'https://login.microsoftonline.com/{tenant_id}/oauth2/token'\n",
    "    \n",
    "    headers = {\n",
    "        'Content-Type': 'application/x-www-form-urlencoded',\n",
    "    }\n",
    "    \n",
    "    data = {\n",
    "        'grant_type': 'client_credentials',\n",
    "        'client_id': client_id,\n",
    "        'client_secret': client_secret,\n",
    "        'resource': resource,\n",
    "    }\n",
    "    \n",
    "    response = requests.post(token_url, headers=headers, data=data)\n",
    "    \n",
    "    if response.status_code == 200:\n",
    "        token = response.json().get('access_token')\n",
    "        return token\n",
    "    else:\n",
    "        print(f\"Failed to get access token. Status code: {response.status_code}\")\n",
    "        return None"
   ]
  },
  {
   "cell_type": "code",
   "execution_count": 7,
   "id": "c39d5105",
   "metadata": {},
   "outputs": [
    {
     "data": {
      "text/plain": [
       "'access_token = get_access_token(client_id, client_secret, tenant_id)\\n\\nif access_token:\\n    print(f\"Access Token: {access_token}\")\\nelse:\\n    print(\"Failed to retrieve access token.\")'"
      ]
     },
     "execution_count": 7,
     "metadata": {},
     "output_type": "execute_result"
    }
   ],
   "source": [
    "# Replace these values with your own\n",
    "client_id = '253786a3-389f-43d5-a382-ef0f83f290ab'\n",
    "client_secret = '35c7db8d-61b0-4fef-974f-68b50b06ebc5'\n",
    "tenant_id = '49b7cd62-1b11-483c-b918-b759424efcf3'\n",
    "\n",
    "'''access_token = get_access_token(client_id, client_secret, tenant_id)\n",
    "\n",
    "if access_token:\n",
    "    print(f\"Access Token: {access_token}\")\n",
    "else:\n",
    "    print(\"Failed to retrieve access token.\")'''\n"
   ]
  },
  {
   "cell_type": "code",
   "execution_count": null,
   "id": "b969d7fc",
   "metadata": {},
   "outputs": [],
   "source": []
  },
  {
   "cell_type": "code",
   "execution_count": 3,
   "id": "7125090b",
   "metadata": {},
   "outputs": [],
   "source": [
    "Client_ID = 'bc0ea875-5c17-4a11-b762-80eeb4266085'\n",
    "Tenant_ID = '49b7cd62-1b11-483c-b918-b759424efcf3'\n"
   ]
  },
  {
   "cell_type": "code",
   "execution_count": 4,
   "id": "ae2ebc04",
   "metadata": {},
   "outputs": [
    {
     "name": "stdout",
     "output_type": "stream",
     "text": [
      "https://login.microsoftonline.com/49b7cd62-1b11-483c-b918-b759424efcf3/oauth2/v2.0/authorize?client_id=bc0ea875-5c17-4a11-b762-80eeb4266085&response_type=code&redirect_uri=http%3a%2f%2flocalhost%3a8080&response_mode=query&scope=bc0ea875-5c17-4a11-b762-80eeb4266085%2f.default&state=12345&sso_reload=true\n"
     ]
    }
   ],
   "source": [
    "url =f'https://login.microsoftonline.com/{Tenant_ID}/oauth2/v2.0/authorize?client_id={Client_ID}&response_type=code&redirect_uri=http%3a%2f%2flocalhost%3a8080&response_mode=query&scope={Client_ID}%2f.default&state=12345&sso_reload=true'\n",
    "refresh_token =requests.get(f'https://login.microsoftonline.com/{Tenant_ID}/oauth2/v2.0/authorize?client_id={Client_ID}&response_type=code &redirect_uri=http%3a%2f%2flocalhost%3a8080&response_mode=query&scope={Client_ID}%2f.default&state=12345&sso_reload=true')\n",
    "print(url)"
   ]
  },
  {
   "cell_type": "code",
   "execution_count": null,
   "id": "3b2ac206",
   "metadata": {},
   "outputs": [],
   "source": []
  },
  {
   "cell_type": "code",
   "execution_count": null,
   "id": "4f58dd90",
   "metadata": {},
   "outputs": [],
   "source": []
  }
 ],
 "metadata": {
  "kernelspec": {
   "display_name": "Python 3 (ipykernel)",
   "language": "python",
   "name": "python3"
  },
  "language_info": {
   "codemirror_mode": {
    "name": "ipython",
    "version": 3
   },
   "file_extension": ".py",
   "mimetype": "text/x-python",
   "name": "python",
   "nbconvert_exporter": "python",
   "pygments_lexer": "ipython3",
   "version": "3.11.5"
  }
 },
 "nbformat": 4,
 "nbformat_minor": 5
}
