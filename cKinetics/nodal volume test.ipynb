{
 "cells": [
  {
   "cell_type": "code",
   "execution_count": 2,
   "id": "33846b39",
   "metadata": {},
   "outputs": [],
   "source": [
    "import datetime as dt\n",
    "import requests\n",
    "\n",
    "import pandas as pd\n",
    "import numpy as np\n",
    "import os\n",
    "import io\n",
    "import re\n",
    "import time\n",
    "import datetime\n",
    "from datetime import datetime\n",
    "from bs4 import BeautifulSoup\n",
    "import tabula \n",
    "import json\n",
    "import pdfplumber\n"
   ]
  },
  {
   "cell_type": "code",
   "execution_count": 23,
   "id": "0cc5149c",
   "metadata": {},
   "outputs": [],
   "source": [
    "class Nodal:\n",
    "    def __init__(self, df, access_token, blob_name):\n",
    "        self.df = df\n",
    "        self.access_token = access_token\n",
    "        self.blob_name = blob_name\n",
    "\n",
    "    def process_volume(self):\n",
    "        nodal_volume_temp = self.df.copy()\n",
    "        print(nodal_volume_temp.columns)\n",
    "        nodal_volume_temp.insert(0, 'date', self.get_date())\n",
    "        nodal_volume_temp['Market'] = 'Nodal OI and Volume'\n",
    "        \n",
    "        nodal_volume_temp.replace(' ', np.nan, inplace=True)\n",
    "        self.common_processing(nodal_volume_temp)\n",
    "        nodal_volume_temp['Open Interest'] =nodal_volume_temp['Open Interest'].astype(float,errors='ignore')\n",
    "        nodal_volume_temp['OI Change'] =nodal_volume_temp['OI Change'].astype(float,errors='ignore')\n",
    "        nodal_volume_temp['Total Volume'] =nodal_volume_temp['Total Volume'].astype(float,errors='ignore')\n",
    "        nodal_volume_temp['Block Volume'] =nodal_volume_temp['Block Volume'].astype(float,errors='ignore')\n",
    "        nodal_volume_temp.dropna(subset=['Open Interest', 'OI Change', 'Total Volume','Block Volume'], thresh=1, inplace=True)\n",
    "        nodal_volume_temp.dropna(subset=['Code','Product'], thresh=1, inplace=True)\n",
    "        #push_data2(commit_table['nodal_volume'], nodal_volume_temp, self.access_token)\n",
    "        columns = ['date', 'Code', 'Product', 'Expiration', 'Open Interest', 'OI Change', 'Total Volume', 'Block Volume', 'Market']\n",
    "\n",
    "# Drop columns that are not in the columns_to_keep list\n",
    "        nodal_volume_temp = nodal_volume_temp[columns_to_keep]\n",
    "        print(nodal_volume_temp.columns)\n",
    "\n",
    "    def common_processing(self, nodal_temp):\n",
    "        \n",
    "        nodal_temp.dropna(subset=nodal_temp.columns[2:5], thresh=1, inplace=True)\n",
    "        nodal_temp.replace(' ', np.nan, inplace=True)\n",
    "        nodal_temp = nodal_temp.rename(columns={col: col.strip() for col in nodal_temp.columns})\n",
    "       \n",
    "\n",
    "    def get_date(self):\n",
    "        if 'NEX_EOD' in self.blob_name:\n",
    "            date_value = re.search(r\"\\d{4}(\\d{2})(\\d{2})\", self.blob_name)\n",
    "            if date_value:\n",
    "                date_str = date_value.group(1) + \" \" + date_value.group(2) + \" \" + date_value.group(0)[:4]\n",
    "                date = dt.datetime.strptime(date_str, \"%m %d %Y\").strftime(\"%d %b %Y\")\n",
    "                return date\n",
    "            \n",
    "        elif 'Nodal OI' in self.blob_name:\n",
    "            date_value = re.search(r\"(\\d{1,2})\\.(\\d{1,2})\\.(\\d{4})\", self.blob_name)\n",
    "            if date_value:\n",
    "                date_str = date_value.group(1) + \" \" + date_value.group(2) + \" \" + date_value.group(3)[:4]\n",
    "                date = dt.datetime.strptime(date_str, \"%m %d %Y\").strftime(\"%d %b %Y\")\n",
    "                return date"
   ]
  },
  {
   "cell_type": "code",
   "execution_count": 24,
   "id": "fda05853",
   "metadata": {},
   "outputs": [
    {
     "name": "stdout",
     "output_type": "stream",
     "text": [
      "Index(['Code', 'Product', 'Expiration', 'Open Interest', 'OI Change',\n",
      "       'Total Volume', 'Block Volume', 'Unnamed: 7'],\n",
      "      dtype='object')\n",
      "Index(['date', 'Code', 'Product', 'Expiration', 'Open Interest', 'OI Change',\n",
      "       'Total Volume', 'Block Volume', 'Market'],\n",
      "      dtype='object')\n"
     ]
    }
   ],
   "source": [
    "\n",
    "df = pd.read_excel(r'D:\\Nodal OI and Volume 11.16.2023.xlsx')\n",
    "nodal = Nodal(df,'access_token', os.path.basename(r'D:\\Nodal OI and Volume 11.16.2023.xlsx'))\n",
    "if 'Volume' in os.path.basename(r'D:\\Nodal OI and Volume 11.16.2023.xlsx'):\n",
    "    nodal.process_volume()"
   ]
  },
  {
   "cell_type": "code",
   "execution_count": 10,
   "id": "76c6446f",
   "metadata": {},
   "outputs": [
    {
     "name": "stdout",
     "output_type": "stream",
     "text": [
      "File Name: Nodal OI and Volume 11.16.2023.xlsx\n"
     ]
    }
   ],
   "source": [
    "file_name = os.path.basename(r'D:\\Nodal OI and Volume 11.16.2023.xlsx')\n",
    "\n",
    "# Now file_name contains the name of the file\n",
    "print(\"File Name:\", file_name)"
   ]
  },
  {
   "cell_type": "code",
   "execution_count": null,
   "id": "fc9e74db",
   "metadata": {},
   "outputs": [],
   "source": []
  }
 ],
 "metadata": {
  "kernelspec": {
   "display_name": "Python 3 (ipykernel)",
   "language": "python",
   "name": "python3"
  },
  "language_info": {
   "codemirror_mode": {
    "name": "ipython",
    "version": 3
   },
   "file_extension": ".py",
   "mimetype": "text/x-python",
   "name": "python",
   "nbconvert_exporter": "python",
   "pygments_lexer": "ipython3",
   "version": "3.11.5"
  }
 },
 "nbformat": 4,
 "nbformat_minor": 5
}
